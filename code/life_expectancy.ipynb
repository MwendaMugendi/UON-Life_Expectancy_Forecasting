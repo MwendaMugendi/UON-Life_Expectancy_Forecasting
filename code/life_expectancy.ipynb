{
 "cells": [
  {
   "cell_type": "markdown",
   "metadata": {},
   "source": [
    "# Life Expectancy Forecasting \n",
    "\n",
    "\n",
    "* [**Introduction**](#introduction)\n",
    "* [**Importing libraries and data**](#import)\n",
    "* [**Data Preprocessing**](#preprocessing)\n",
    "* [**Exploratory Data Analysis**](#exploratory_data_analysis)\n",
    "* [**Feature Engineering and Selection**](#feature_engineering)\n",
    "* [**Machine Learning**](#model)\n",
    "* [**Conclusions**](#conclusions)"
   ]
  },
  {
   "cell_type": "markdown",
   "metadata": {},
   "source": [
    "<a id='introduction'></a>\n",
    "\n",
    "## Introduction"
   ]
  },
  {
   "cell_type": "markdown",
   "metadata": {},
   "source": [
    "## The business question\n",
    "\n",
    "### <span style=\"color:blue\"> Life Expectancy forecasting helps in understanding what factors are most responsible for short and long lifespans in countries.</span>\n",
    "\n",
    "**The goal:** Forecast life expenctancy for a country.\n",
    "\n",
    "<ins>**How does this help UON ML 2022 Class?**<ins>\n",
    "* Gauge the technical skills required to prepare data and build a Linear regression ML model. \n",
    "* Understand factors that influence life expectancy. "
   ]
  },
  {
   "cell_type": "markdown",
   "metadata": {},
   "source": [
    "## Solution\n",
    "\n",
    "* **Assumptions:**\n",
    "- The life expectancy can be described by the features in the dataset. \n",
    " \n",
    "\n",
    "* Using the data provided, Group F builds a life expectancy prediction model that is able to provide approximate expected life span based on the features provided. \n",
    "\n",
    "* A linear regression model is built to model life expectancy based on the features provided.\n",
    "* Root Mean Squared Error is used as an evaluation metric. \n"
   ]
  },
  {
   "cell_type": "markdown",
   "metadata": {},
   "source": [
    "<a id='import'></a>\n",
    "\n",
    "## Importing libraries and data\n",
    "\n",
    "### Libraries and settings"
   ]
  },
  {
   "cell_type": "code",
   "execution_count": 1,
   "metadata": {},
   "outputs": [
    {
     "name": "stderr",
     "output_type": "stream",
     "text": [
      "\n",
      "Bad key text.latex.preview in file c:\\ProgramData\\Anaconda3\\envs\\DataMasked\\lib\\site-packages\\matplotlib\\mpl-data\\stylelib\\_classic_test.mplstyle, line 123 ('text.latex.preview : False')\n",
      "You probably need to get an updated matplotlibrc file from\n",
      "https://github.com/matplotlib/matplotlib/blob/v3.5.2/matplotlibrc.template\n",
      "or from the matplotlib source distribution\n",
      "\n",
      "Bad key mathtext.fallback_to_cm in file c:\\ProgramData\\Anaconda3\\envs\\DataMasked\\lib\\site-packages\\matplotlib\\mpl-data\\stylelib\\_classic_test.mplstyle, line 155 ('mathtext.fallback_to_cm : True  # When True, use symbols from the Computer Modern')\n",
      "You probably need to get an updated matplotlibrc file from\n",
      "https://github.com/matplotlib/matplotlib/blob/v3.5.2/matplotlibrc.template\n",
      "or from the matplotlib source distribution\n",
      "\n",
      "Bad key savefig.jpeg_quality in file c:\\ProgramData\\Anaconda3\\envs\\DataMasked\\lib\\site-packages\\matplotlib\\mpl-data\\stylelib\\_classic_test.mplstyle, line 418 ('savefig.jpeg_quality: 95       # when a jpeg is saved, the default quality parameter.')\n",
      "You probably need to get an updated matplotlibrc file from\n",
      "https://github.com/matplotlib/matplotlib/blob/v3.5.2/matplotlibrc.template\n",
      "or from the matplotlib source distribution\n",
      "\n",
      "Bad key keymap.all_axes in file c:\\ProgramData\\Anaconda3\\envs\\DataMasked\\lib\\site-packages\\matplotlib\\mpl-data\\stylelib\\_classic_test.mplstyle, line 466 ('keymap.all_axes : a                 # enable all axes')\n",
      "You probably need to get an updated matplotlibrc file from\n",
      "https://github.com/matplotlib/matplotlib/blob/v3.5.2/matplotlibrc.template\n",
      "or from the matplotlib source distribution\n",
      "\n",
      "Bad key animation.avconv_path in file c:\\ProgramData\\Anaconda3\\envs\\DataMasked\\lib\\site-packages\\matplotlib\\mpl-data\\stylelib\\_classic_test.mplstyle, line 477 ('animation.avconv_path: avconv     # Path to avconv binary. Without full path')\n",
      "You probably need to get an updated matplotlibrc file from\n",
      "https://github.com/matplotlib/matplotlib/blob/v3.5.2/matplotlibrc.template\n",
      "or from the matplotlib source distribution\n",
      "\n",
      "Bad key animation.avconv_args in file c:\\ProgramData\\Anaconda3\\envs\\DataMasked\\lib\\site-packages\\matplotlib\\mpl-data\\stylelib\\_classic_test.mplstyle, line 479 ('animation.avconv_args:            # Additional arguments to pass to avconv')\n",
      "You probably need to get an updated matplotlibrc file from\n",
      "https://github.com/matplotlib/matplotlib/blob/v3.5.2/matplotlibrc.template\n",
      "or from the matplotlib source distribution\n"
     ]
    }
   ],
   "source": [
    "import warnings\n",
    "warnings.simplefilter('ignore')\n",
    "\n",
    "# %matplotlib widget\n",
    "%matplotlib inline\n",
    "import matplotlib.pyplot as plt\n",
    "plt.style.use('seaborn')\n",
    "from matplotlib import rcParams\n",
    "rcParams.update({'figure.autolayout': True})\n",
    "import seaborn as sns\n",
    "sns.set(font_scale = 2)\n",
    "\n",
    "# Internal ipython tool for setting figure size\n",
    "from IPython.core.pylabtools import figsize\n",
    "\n",
    "import pandas as pd\n",
    "import numpy as np\n",
    "pd.set_option('display.max_columns', 10)\n",
    "pd.set_option('display.width', 350)\n",
    "\n",
    "data = pd.read_csv('../data/life_expectancy.csv')"
   ]
  },
  {
   "cell_type": "code",
   "execution_count": 2,
   "metadata": {},
   "outputs": [
    {
     "data": {
      "text/html": [
       "<div>\n",
       "<style scoped>\n",
       "    .dataframe tbody tr th:only-of-type {\n",
       "        vertical-align: middle;\n",
       "    }\n",
       "\n",
       "    .dataframe tbody tr th {\n",
       "        vertical-align: top;\n",
       "    }\n",
       "\n",
       "    .dataframe thead th {\n",
       "        text-align: right;\n",
       "    }\n",
       "</style>\n",
       "<table border=\"1\" class=\"dataframe\">\n",
       "  <thead>\n",
       "    <tr style=\"text-align: right;\">\n",
       "      <th></th>\n",
       "      <th>Country</th>\n",
       "      <th>Year</th>\n",
       "      <th>Status</th>\n",
       "      <th>Life expectancy</th>\n",
       "      <th>Adult Mortality</th>\n",
       "      <th>...</th>\n",
       "      <th>Population</th>\n",
       "      <th>thinness  1-19 years</th>\n",
       "      <th>thinness 5-9 years</th>\n",
       "      <th>Income composition of resources</th>\n",
       "      <th>Schooling</th>\n",
       "    </tr>\n",
       "  </thead>\n",
       "  <tbody>\n",
       "    <tr>\n",
       "      <th>0</th>\n",
       "      <td>Afghanistan</td>\n",
       "      <td>2015</td>\n",
       "      <td>Developing</td>\n",
       "      <td>65.0</td>\n",
       "      <td>263.0</td>\n",
       "      <td>...</td>\n",
       "      <td>33736494.0</td>\n",
       "      <td>17.2</td>\n",
       "      <td>17.3</td>\n",
       "      <td>0.479</td>\n",
       "      <td>10.1</td>\n",
       "    </tr>\n",
       "    <tr>\n",
       "      <th>1</th>\n",
       "      <td>Afghanistan</td>\n",
       "      <td>2014</td>\n",
       "      <td>Developing</td>\n",
       "      <td>59.9</td>\n",
       "      <td>271.0</td>\n",
       "      <td>...</td>\n",
       "      <td>327582.0</td>\n",
       "      <td>17.5</td>\n",
       "      <td>17.5</td>\n",
       "      <td>0.476</td>\n",
       "      <td>10.0</td>\n",
       "    </tr>\n",
       "    <tr>\n",
       "      <th>2</th>\n",
       "      <td>Afghanistan</td>\n",
       "      <td>2013</td>\n",
       "      <td>Developing</td>\n",
       "      <td>59.9</td>\n",
       "      <td>268.0</td>\n",
       "      <td>...</td>\n",
       "      <td>31731688.0</td>\n",
       "      <td>17.7</td>\n",
       "      <td>17.7</td>\n",
       "      <td>0.470</td>\n",
       "      <td>9.9</td>\n",
       "    </tr>\n",
       "    <tr>\n",
       "      <th>3</th>\n",
       "      <td>Afghanistan</td>\n",
       "      <td>2012</td>\n",
       "      <td>Developing</td>\n",
       "      <td>59.5</td>\n",
       "      <td>272.0</td>\n",
       "      <td>...</td>\n",
       "      <td>3696958.0</td>\n",
       "      <td>17.9</td>\n",
       "      <td>18.0</td>\n",
       "      <td>0.463</td>\n",
       "      <td>9.8</td>\n",
       "    </tr>\n",
       "    <tr>\n",
       "      <th>4</th>\n",
       "      <td>Afghanistan</td>\n",
       "      <td>2011</td>\n",
       "      <td>Developing</td>\n",
       "      <td>59.2</td>\n",
       "      <td>275.0</td>\n",
       "      <td>...</td>\n",
       "      <td>2978599.0</td>\n",
       "      <td>18.2</td>\n",
       "      <td>18.2</td>\n",
       "      <td>0.454</td>\n",
       "      <td>9.5</td>\n",
       "    </tr>\n",
       "  </tbody>\n",
       "</table>\n",
       "<p>5 rows × 22 columns</p>\n",
       "</div>"
      ],
      "text/plain": [
       "       Country  Year      Status  Life expectancy   Adult Mortality  ...  Population   thinness  1-19 years   thinness 5-9 years  Income composition of resources  Schooling\n",
       "0  Afghanistan  2015  Developing              65.0            263.0  ...  33736494.0                   17.2                 17.3                            0.479       10.1\n",
       "1  Afghanistan  2014  Developing              59.9            271.0  ...    327582.0                   17.5                 17.5                            0.476       10.0\n",
       "2  Afghanistan  2013  Developing              59.9            268.0  ...  31731688.0                   17.7                 17.7                            0.470        9.9\n",
       "3  Afghanistan  2012  Developing              59.5            272.0  ...   3696958.0                   17.9                 18.0                            0.463        9.8\n",
       "4  Afghanistan  2011  Developing              59.2            275.0  ...   2978599.0                   18.2                 18.2                            0.454        9.5\n",
       "\n",
       "[5 rows x 22 columns]"
      ]
     },
     "execution_count": 2,
     "metadata": {},
     "output_type": "execute_result"
    }
   ],
   "source": [
    "data.head()"
   ]
  },
  {
   "cell_type": "code",
   "execution_count": 3,
   "metadata": {},
   "outputs": [
    {
     "name": "stdout",
     "output_type": "stream",
     "text": [
      "<class 'pandas.core.frame.DataFrame'>\n",
      "RangeIndex: 2938 entries, 0 to 2937\n",
      "Data columns (total 22 columns):\n",
      " #   Column                           Non-Null Count  Dtype  \n",
      "---  ------                           --------------  -----  \n",
      " 0   Country                          2938 non-null   object \n",
      " 1   Year                             2938 non-null   int64  \n",
      " 2   Status                           2938 non-null   object \n",
      " 3   Life expectancy                  2928 non-null   float64\n",
      " 4   Adult Mortality                  2928 non-null   float64\n",
      " 5   infant deaths                    2938 non-null   int64  \n",
      " 6   Alcohol                          2744 non-null   float64\n",
      " 7   percentage expenditure           2938 non-null   float64\n",
      " 8   Hepatitis B                      2385 non-null   float64\n",
      " 9   Measles                          2938 non-null   int64  \n",
      " 10   BMI                             2904 non-null   float64\n",
      " 11  under-five deaths                2938 non-null   int64  \n",
      " 12  Polio                            2919 non-null   float64\n",
      " 13  Total expenditure                2712 non-null   float64\n",
      " 14  Diphtheria                       2919 non-null   float64\n",
      " 15   HIV/AIDS                        2938 non-null   float64\n",
      " 16  GDP                              2490 non-null   float64\n",
      " 17  Population                       2286 non-null   float64\n",
      " 18   thinness  1-19 years            2904 non-null   float64\n",
      " 19   thinness 5-9 years              2904 non-null   float64\n",
      " 20  Income composition of resources  2771 non-null   float64\n",
      " 21  Schooling                        2775 non-null   float64\n",
      "dtypes: float64(16), int64(4), object(2)\n",
      "memory usage: 505.1+ KB\n"
     ]
    }
   ],
   "source": [
    "data.info()"
   ]
  },
  {
   "cell_type": "markdown",
   "metadata": {},
   "source": [
    "<a id='preprocessing'></a>\n",
    "# Data Preprocessing"
   ]
  },
  {
   "cell_type": "markdown",
   "metadata": {},
   "source": [
    "<a id='exploratory_data_analysis'></a>\n",
    "## Exploratory Data Analysis"
   ]
  },
  {
   "cell_type": "code",
   "execution_count": 4,
   "metadata": {},
   "outputs": [
    {
     "data": {
      "text/html": [
       "<div>\n",
       "<style scoped>\n",
       "    .dataframe tbody tr th:only-of-type {\n",
       "        vertical-align: middle;\n",
       "    }\n",
       "\n",
       "    .dataframe tbody tr th {\n",
       "        vertical-align: top;\n",
       "    }\n",
       "\n",
       "    .dataframe thead th {\n",
       "        text-align: right;\n",
       "    }\n",
       "</style>\n",
       "<table border=\"1\" class=\"dataframe\">\n",
       "  <thead>\n",
       "    <tr style=\"text-align: right;\">\n",
       "      <th></th>\n",
       "      <th>count</th>\n",
       "      <th>mean</th>\n",
       "      <th>std</th>\n",
       "      <th>min</th>\n",
       "      <th>25%</th>\n",
       "      <th>50%</th>\n",
       "      <th>75%</th>\n",
       "      <th>max</th>\n",
       "    </tr>\n",
       "  </thead>\n",
       "  <tbody>\n",
       "    <tr>\n",
       "      <th>Year</th>\n",
       "      <td>2938.0</td>\n",
       "      <td>2.007519e+03</td>\n",
       "      <td>4.613841e+00</td>\n",
       "      <td>2000.00000</td>\n",
       "      <td>2004.000000</td>\n",
       "      <td>2.008000e+03</td>\n",
       "      <td>2.012000e+03</td>\n",
       "      <td>2.015000e+03</td>\n",
       "    </tr>\n",
       "    <tr>\n",
       "      <th>Life expectancy</th>\n",
       "      <td>2928.0</td>\n",
       "      <td>6.922493e+01</td>\n",
       "      <td>9.523867e+00</td>\n",
       "      <td>36.30000</td>\n",
       "      <td>63.100000</td>\n",
       "      <td>7.210000e+01</td>\n",
       "      <td>7.570000e+01</td>\n",
       "      <td>8.900000e+01</td>\n",
       "    </tr>\n",
       "    <tr>\n",
       "      <th>Adult Mortality</th>\n",
       "      <td>2928.0</td>\n",
       "      <td>1.647964e+02</td>\n",
       "      <td>1.242921e+02</td>\n",
       "      <td>1.00000</td>\n",
       "      <td>74.000000</td>\n",
       "      <td>1.440000e+02</td>\n",
       "      <td>2.280000e+02</td>\n",
       "      <td>7.230000e+02</td>\n",
       "    </tr>\n",
       "    <tr>\n",
       "      <th>infant deaths</th>\n",
       "      <td>2938.0</td>\n",
       "      <td>3.030395e+01</td>\n",
       "      <td>1.179265e+02</td>\n",
       "      <td>0.00000</td>\n",
       "      <td>0.000000</td>\n",
       "      <td>3.000000e+00</td>\n",
       "      <td>2.200000e+01</td>\n",
       "      <td>1.800000e+03</td>\n",
       "    </tr>\n",
       "    <tr>\n",
       "      <th>Alcohol</th>\n",
       "      <td>2744.0</td>\n",
       "      <td>4.602861e+00</td>\n",
       "      <td>4.052413e+00</td>\n",
       "      <td>0.01000</td>\n",
       "      <td>0.877500</td>\n",
       "      <td>3.755000e+00</td>\n",
       "      <td>7.702500e+00</td>\n",
       "      <td>1.787000e+01</td>\n",
       "    </tr>\n",
       "    <tr>\n",
       "      <th>percentage expenditure</th>\n",
       "      <td>2938.0</td>\n",
       "      <td>7.382513e+02</td>\n",
       "      <td>1.987915e+03</td>\n",
       "      <td>0.00000</td>\n",
       "      <td>4.685343</td>\n",
       "      <td>6.491291e+01</td>\n",
       "      <td>4.415341e+02</td>\n",
       "      <td>1.947991e+04</td>\n",
       "    </tr>\n",
       "    <tr>\n",
       "      <th>Hepatitis B</th>\n",
       "      <td>2385.0</td>\n",
       "      <td>8.094046e+01</td>\n",
       "      <td>2.507002e+01</td>\n",
       "      <td>1.00000</td>\n",
       "      <td>77.000000</td>\n",
       "      <td>9.200000e+01</td>\n",
       "      <td>9.700000e+01</td>\n",
       "      <td>9.900000e+01</td>\n",
       "    </tr>\n",
       "    <tr>\n",
       "      <th>Measles</th>\n",
       "      <td>2938.0</td>\n",
       "      <td>2.419592e+03</td>\n",
       "      <td>1.146727e+04</td>\n",
       "      <td>0.00000</td>\n",
       "      <td>0.000000</td>\n",
       "      <td>1.700000e+01</td>\n",
       "      <td>3.602500e+02</td>\n",
       "      <td>2.121830e+05</td>\n",
       "    </tr>\n",
       "    <tr>\n",
       "      <th>BMI</th>\n",
       "      <td>2904.0</td>\n",
       "      <td>3.832125e+01</td>\n",
       "      <td>2.004403e+01</td>\n",
       "      <td>1.00000</td>\n",
       "      <td>19.300000</td>\n",
       "      <td>4.350000e+01</td>\n",
       "      <td>5.620000e+01</td>\n",
       "      <td>8.730000e+01</td>\n",
       "    </tr>\n",
       "    <tr>\n",
       "      <th>under-five deaths</th>\n",
       "      <td>2938.0</td>\n",
       "      <td>4.203574e+01</td>\n",
       "      <td>1.604455e+02</td>\n",
       "      <td>0.00000</td>\n",
       "      <td>0.000000</td>\n",
       "      <td>4.000000e+00</td>\n",
       "      <td>2.800000e+01</td>\n",
       "      <td>2.500000e+03</td>\n",
       "    </tr>\n",
       "    <tr>\n",
       "      <th>Polio</th>\n",
       "      <td>2919.0</td>\n",
       "      <td>8.255019e+01</td>\n",
       "      <td>2.342805e+01</td>\n",
       "      <td>3.00000</td>\n",
       "      <td>78.000000</td>\n",
       "      <td>9.300000e+01</td>\n",
       "      <td>9.700000e+01</td>\n",
       "      <td>9.900000e+01</td>\n",
       "    </tr>\n",
       "    <tr>\n",
       "      <th>Total expenditure</th>\n",
       "      <td>2712.0</td>\n",
       "      <td>5.938190e+00</td>\n",
       "      <td>2.498320e+00</td>\n",
       "      <td>0.37000</td>\n",
       "      <td>4.260000</td>\n",
       "      <td>5.755000e+00</td>\n",
       "      <td>7.492500e+00</td>\n",
       "      <td>1.760000e+01</td>\n",
       "    </tr>\n",
       "    <tr>\n",
       "      <th>Diphtheria</th>\n",
       "      <td>2919.0</td>\n",
       "      <td>8.232408e+01</td>\n",
       "      <td>2.371691e+01</td>\n",
       "      <td>2.00000</td>\n",
       "      <td>78.000000</td>\n",
       "      <td>9.300000e+01</td>\n",
       "      <td>9.700000e+01</td>\n",
       "      <td>9.900000e+01</td>\n",
       "    </tr>\n",
       "    <tr>\n",
       "      <th>HIV/AIDS</th>\n",
       "      <td>2938.0</td>\n",
       "      <td>1.742103e+00</td>\n",
       "      <td>5.077785e+00</td>\n",
       "      <td>0.10000</td>\n",
       "      <td>0.100000</td>\n",
       "      <td>1.000000e-01</td>\n",
       "      <td>8.000000e-01</td>\n",
       "      <td>5.060000e+01</td>\n",
       "    </tr>\n",
       "    <tr>\n",
       "      <th>GDP</th>\n",
       "      <td>2490.0</td>\n",
       "      <td>7.483158e+03</td>\n",
       "      <td>1.427017e+04</td>\n",
       "      <td>1.68135</td>\n",
       "      <td>463.935626</td>\n",
       "      <td>1.766948e+03</td>\n",
       "      <td>5.910806e+03</td>\n",
       "      <td>1.191727e+05</td>\n",
       "    </tr>\n",
       "    <tr>\n",
       "      <th>Population</th>\n",
       "      <td>2286.0</td>\n",
       "      <td>1.275338e+07</td>\n",
       "      <td>6.101210e+07</td>\n",
       "      <td>34.00000</td>\n",
       "      <td>195793.250000</td>\n",
       "      <td>1.386542e+06</td>\n",
       "      <td>7.420359e+06</td>\n",
       "      <td>1.293859e+09</td>\n",
       "    </tr>\n",
       "    <tr>\n",
       "      <th>thinness  1-19 years</th>\n",
       "      <td>2904.0</td>\n",
       "      <td>4.839704e+00</td>\n",
       "      <td>4.420195e+00</td>\n",
       "      <td>0.10000</td>\n",
       "      <td>1.600000</td>\n",
       "      <td>3.300000e+00</td>\n",
       "      <td>7.200000e+00</td>\n",
       "      <td>2.770000e+01</td>\n",
       "    </tr>\n",
       "    <tr>\n",
       "      <th>thinness 5-9 years</th>\n",
       "      <td>2904.0</td>\n",
       "      <td>4.870317e+00</td>\n",
       "      <td>4.508882e+00</td>\n",
       "      <td>0.10000</td>\n",
       "      <td>1.500000</td>\n",
       "      <td>3.300000e+00</td>\n",
       "      <td>7.200000e+00</td>\n",
       "      <td>2.860000e+01</td>\n",
       "    </tr>\n",
       "    <tr>\n",
       "      <th>Income composition of resources</th>\n",
       "      <td>2771.0</td>\n",
       "      <td>6.275511e-01</td>\n",
       "      <td>2.109036e-01</td>\n",
       "      <td>0.00000</td>\n",
       "      <td>0.493000</td>\n",
       "      <td>6.770000e-01</td>\n",
       "      <td>7.790000e-01</td>\n",
       "      <td>9.480000e-01</td>\n",
       "    </tr>\n",
       "    <tr>\n",
       "      <th>Schooling</th>\n",
       "      <td>2775.0</td>\n",
       "      <td>1.199279e+01</td>\n",
       "      <td>3.358920e+00</td>\n",
       "      <td>0.00000</td>\n",
       "      <td>10.100000</td>\n",
       "      <td>1.230000e+01</td>\n",
       "      <td>1.430000e+01</td>\n",
       "      <td>2.070000e+01</td>\n",
       "    </tr>\n",
       "  </tbody>\n",
       "</table>\n",
       "</div>"
      ],
      "text/plain": [
       "                                  count          mean           std         min            25%           50%           75%           max\n",
       "Year                             2938.0  2.007519e+03  4.613841e+00  2000.00000    2004.000000  2.008000e+03  2.012000e+03  2.015000e+03\n",
       "Life expectancy                  2928.0  6.922493e+01  9.523867e+00    36.30000      63.100000  7.210000e+01  7.570000e+01  8.900000e+01\n",
       "Adult Mortality                  2928.0  1.647964e+02  1.242921e+02     1.00000      74.000000  1.440000e+02  2.280000e+02  7.230000e+02\n",
       "infant deaths                    2938.0  3.030395e+01  1.179265e+02     0.00000       0.000000  3.000000e+00  2.200000e+01  1.800000e+03\n",
       "Alcohol                          2744.0  4.602861e+00  4.052413e+00     0.01000       0.877500  3.755000e+00  7.702500e+00  1.787000e+01\n",
       "percentage expenditure           2938.0  7.382513e+02  1.987915e+03     0.00000       4.685343  6.491291e+01  4.415341e+02  1.947991e+04\n",
       "Hepatitis B                      2385.0  8.094046e+01  2.507002e+01     1.00000      77.000000  9.200000e+01  9.700000e+01  9.900000e+01\n",
       "Measles                          2938.0  2.419592e+03  1.146727e+04     0.00000       0.000000  1.700000e+01  3.602500e+02  2.121830e+05\n",
       " BMI                             2904.0  3.832125e+01  2.004403e+01     1.00000      19.300000  4.350000e+01  5.620000e+01  8.730000e+01\n",
       "under-five deaths                2938.0  4.203574e+01  1.604455e+02     0.00000       0.000000  4.000000e+00  2.800000e+01  2.500000e+03\n",
       "Polio                            2919.0  8.255019e+01  2.342805e+01     3.00000      78.000000  9.300000e+01  9.700000e+01  9.900000e+01\n",
       "Total expenditure                2712.0  5.938190e+00  2.498320e+00     0.37000       4.260000  5.755000e+00  7.492500e+00  1.760000e+01\n",
       "Diphtheria                       2919.0  8.232408e+01  2.371691e+01     2.00000      78.000000  9.300000e+01  9.700000e+01  9.900000e+01\n",
       " HIV/AIDS                        2938.0  1.742103e+00  5.077785e+00     0.10000       0.100000  1.000000e-01  8.000000e-01  5.060000e+01\n",
       "GDP                              2490.0  7.483158e+03  1.427017e+04     1.68135     463.935626  1.766948e+03  5.910806e+03  1.191727e+05\n",
       "Population                       2286.0  1.275338e+07  6.101210e+07    34.00000  195793.250000  1.386542e+06  7.420359e+06  1.293859e+09\n",
       " thinness  1-19 years            2904.0  4.839704e+00  4.420195e+00     0.10000       1.600000  3.300000e+00  7.200000e+00  2.770000e+01\n",
       " thinness 5-9 years              2904.0  4.870317e+00  4.508882e+00     0.10000       1.500000  3.300000e+00  7.200000e+00  2.860000e+01\n",
       "Income composition of resources  2771.0  6.275511e-01  2.109036e-01     0.00000       0.493000  6.770000e-01  7.790000e-01  9.480000e-01\n",
       "Schooling                        2775.0  1.199279e+01  3.358920e+00     0.00000      10.100000  1.230000e+01  1.430000e+01  2.070000e+01"
      ]
     },
     "execution_count": 4,
     "metadata": {},
     "output_type": "execute_result"
    }
   ],
   "source": [
    "data.describe().T # Some columns have missing values"
   ]
  },
  {
   "cell_type": "code",
   "execution_count": 5,
   "metadata": {},
   "outputs": [
    {
     "data": {
      "text/plain": [
       "Country                              0\n",
       "Year                                 0\n",
       "Status                               0\n",
       "Life expectancy                     10\n",
       "Adult Mortality                     10\n",
       "infant deaths                        0\n",
       "Alcohol                            194\n",
       "percentage expenditure               0\n",
       "Hepatitis B                        553\n",
       "Measles                              0\n",
       " BMI                                34\n",
       "under-five deaths                    0\n",
       "Polio                               19\n",
       "Total expenditure                  226\n",
       "Diphtheria                          19\n",
       " HIV/AIDS                            0\n",
       "GDP                                448\n",
       "Population                         652\n",
       " thinness  1-19 years               34\n",
       " thinness 5-9 years                 34\n",
       "Income composition of resources    167\n",
       "Schooling                          163\n",
       "dtype: int64"
      ]
     },
     "execution_count": 5,
     "metadata": {},
     "output_type": "execute_result"
    }
   ],
   "source": [
    "data.isnull().sum() # Check if some columns have missing values"
   ]
  },
  {
   "cell_type": "code",
   "execution_count": 6,
   "metadata": {},
   "outputs": [
    {
     "name": "stdout",
     "output_type": "stream",
     "text": [
      "The dataset has 22 columns.\n",
      "There are 14 columns that have missing values.\n"
     ]
    },
    {
     "data": {
      "text/html": [
       "<div>\n",
       "<style scoped>\n",
       "    .dataframe tbody tr th:only-of-type {\n",
       "        vertical-align: middle;\n",
       "    }\n",
       "\n",
       "    .dataframe tbody tr th {\n",
       "        vertical-align: top;\n",
       "    }\n",
       "\n",
       "    .dataframe thead th {\n",
       "        text-align: right;\n",
       "    }\n",
       "</style>\n",
       "<table border=\"1\" class=\"dataframe\">\n",
       "  <thead>\n",
       "    <tr style=\"text-align: right;\">\n",
       "      <th></th>\n",
       "      <th>Missing Values</th>\n",
       "      <th>% of Total Values</th>\n",
       "    </tr>\n",
       "  </thead>\n",
       "  <tbody>\n",
       "    <tr>\n",
       "      <th>Population</th>\n",
       "      <td>652</td>\n",
       "      <td>22.2</td>\n",
       "    </tr>\n",
       "    <tr>\n",
       "      <th>Hepatitis B</th>\n",
       "      <td>553</td>\n",
       "      <td>18.8</td>\n",
       "    </tr>\n",
       "    <tr>\n",
       "      <th>GDP</th>\n",
       "      <td>448</td>\n",
       "      <td>15.2</td>\n",
       "    </tr>\n",
       "    <tr>\n",
       "      <th>Total expenditure</th>\n",
       "      <td>226</td>\n",
       "      <td>7.7</td>\n",
       "    </tr>\n",
       "    <tr>\n",
       "      <th>Alcohol</th>\n",
       "      <td>194</td>\n",
       "      <td>6.6</td>\n",
       "    </tr>\n",
       "    <tr>\n",
       "      <th>Income composition of resources</th>\n",
       "      <td>167</td>\n",
       "      <td>5.7</td>\n",
       "    </tr>\n",
       "    <tr>\n",
       "      <th>Schooling</th>\n",
       "      <td>163</td>\n",
       "      <td>5.5</td>\n",
       "    </tr>\n",
       "    <tr>\n",
       "      <th>BMI</th>\n",
       "      <td>34</td>\n",
       "      <td>1.2</td>\n",
       "    </tr>\n",
       "    <tr>\n",
       "      <th>thinness  1-19 years</th>\n",
       "      <td>34</td>\n",
       "      <td>1.2</td>\n",
       "    </tr>\n",
       "    <tr>\n",
       "      <th>thinness 5-9 years</th>\n",
       "      <td>34</td>\n",
       "      <td>1.2</td>\n",
       "    </tr>\n",
       "    <tr>\n",
       "      <th>Polio</th>\n",
       "      <td>19</td>\n",
       "      <td>0.6</td>\n",
       "    </tr>\n",
       "    <tr>\n",
       "      <th>Diphtheria</th>\n",
       "      <td>19</td>\n",
       "      <td>0.6</td>\n",
       "    </tr>\n",
       "    <tr>\n",
       "      <th>Life expectancy</th>\n",
       "      <td>10</td>\n",
       "      <td>0.3</td>\n",
       "    </tr>\n",
       "    <tr>\n",
       "      <th>Adult Mortality</th>\n",
       "      <td>10</td>\n",
       "      <td>0.3</td>\n",
       "    </tr>\n",
       "  </tbody>\n",
       "</table>\n",
       "</div>"
      ],
      "text/plain": [
       "                                 Missing Values  % of Total Values\n",
       "Population                                  652               22.2\n",
       "Hepatitis B                                 553               18.8\n",
       "GDP                                         448               15.2\n",
       "Total expenditure                           226                7.7\n",
       "Alcohol                                     194                6.6\n",
       "Income composition of resources             167                5.7\n",
       "Schooling                                   163                5.5\n",
       " BMI                                         34                1.2\n",
       " thinness  1-19 years                        34                1.2\n",
       " thinness 5-9 years                          34                1.2\n",
       "Polio                                        19                0.6\n",
       "Diphtheria                                   19                0.6\n",
       "Life expectancy                              10                0.3\n",
       "Adult Mortality                              10                0.3"
      ]
     },
     "execution_count": 6,
     "metadata": {},
     "output_type": "execute_result"
    }
   ],
   "source": [
    "#Checking for missing values\n",
    "\n",
    "# Function to calculate missing values by column\n",
    "def missing_values_table(df):\n",
    "        # Total missing values\n",
    "        mis_val = df.isnull().sum()\n",
    "        \n",
    "        # Percentage of missing values\n",
    "        mis_val_percent = 100 * df.isnull().sum() / len(df)\n",
    "        \n",
    "        # Make a table with the results\n",
    "        mis_val_table = pd.concat([mis_val, mis_val_percent], axis=1)\n",
    "        \n",
    "        # Rename the columns\n",
    "        mis_val_table_ren_columns = mis_val_table.rename(\n",
    "        columns = {0 : 'Missing Values', 1 : '% of Total Values'})\n",
    "        \n",
    "        # Sort the table by percentage of missing descending\n",
    "        mis_val_table_ren_columns = mis_val_table_ren_columns[\n",
    "            mis_val_table_ren_columns.iloc[:,1] != 0].sort_values(\n",
    "        '% of Total Values', ascending=False).round(1)\n",
    "        \n",
    "        # Print some summary information\n",
    "        print (\"The dataset has \" + str(df.shape[1]) + \" columns.\\n\"      \n",
    "            \"There are \" + str(mis_val_table_ren_columns.shape[0]) +\n",
    "              \" columns that have missing values.\")\n",
    "        \n",
    "        # Return the dataframe with missing information\n",
    "        return mis_val_table_ren_columns\n",
    "    \n",
    "missing_values_table(data)"
   ]
  },
  {
   "cell_type": "code",
   "execution_count": 7,
   "metadata": {},
   "outputs": [
    {
     "data": {
      "text/html": [
       "<div>\n",
       "<style scoped>\n",
       "    .dataframe tbody tr th:only-of-type {\n",
       "        vertical-align: middle;\n",
       "    }\n",
       "\n",
       "    .dataframe tbody tr th {\n",
       "        vertical-align: top;\n",
       "    }\n",
       "\n",
       "    .dataframe thead th {\n",
       "        text-align: right;\n",
       "    }\n",
       "</style>\n",
       "<table border=\"1\" class=\"dataframe\">\n",
       "  <thead>\n",
       "    <tr style=\"text-align: right;\">\n",
       "      <th></th>\n",
       "      <th>Life expectancy</th>\n",
       "      <th>Adult Mortality</th>\n",
       "      <th>infant deaths</th>\n",
       "      <th>Alcohol</th>\n",
       "      <th>percentage expenditure</th>\n",
       "      <th>...</th>\n",
       "      <th>Population</th>\n",
       "      <th>thinness  1-19 years</th>\n",
       "      <th>thinness 5-9 years</th>\n",
       "      <th>Income composition of resources</th>\n",
       "      <th>Schooling</th>\n",
       "    </tr>\n",
       "    <tr>\n",
       "      <th>Year</th>\n",
       "      <th></th>\n",
       "      <th></th>\n",
       "      <th></th>\n",
       "      <th></th>\n",
       "      <th></th>\n",
       "      <th></th>\n",
       "      <th></th>\n",
       "      <th></th>\n",
       "      <th></th>\n",
       "      <th></th>\n",
       "      <th></th>\n",
       "    </tr>\n",
       "  </thead>\n",
       "  <tbody>\n",
       "    <tr>\n",
       "      <th>2015</th>\n",
       "      <td>71.616940</td>\n",
       "      <td>152.863388</td>\n",
       "      <td>23.803279</td>\n",
       "      <td>5.288333</td>\n",
       "      <td>2.383906</td>\n",
       "      <td>...</td>\n",
       "      <td>1.109741e+07</td>\n",
       "      <td>4.534807</td>\n",
       "      <td>4.575691</td>\n",
       "      <td>0.691740</td>\n",
       "      <td>12.927168</td>\n",
       "    </tr>\n",
       "    <tr>\n",
       "      <th>2014</th>\n",
       "      <td>71.536612</td>\n",
       "      <td>148.688525</td>\n",
       "      <td>24.557377</td>\n",
       "      <td>3.271319</td>\n",
       "      <td>1001.912550</td>\n",
       "      <td>...</td>\n",
       "      <td>2.106296e+07</td>\n",
       "      <td>4.532597</td>\n",
       "      <td>4.676243</td>\n",
       "      <td>0.688393</td>\n",
       "      <td>12.887283</td>\n",
       "    </tr>\n",
       "    <tr>\n",
       "      <th>2013</th>\n",
       "      <td>71.236066</td>\n",
       "      <td>148.765027</td>\n",
       "      <td>23.968912</td>\n",
       "      <td>3.924450</td>\n",
       "      <td>836.623984</td>\n",
       "      <td>...</td>\n",
       "      <td>1.235609e+07</td>\n",
       "      <td>4.470370</td>\n",
       "      <td>4.425397</td>\n",
       "      <td>0.685648</td>\n",
       "      <td>12.688333</td>\n",
       "    </tr>\n",
       "    <tr>\n",
       "      <th>2012</th>\n",
       "      <td>70.916940</td>\n",
       "      <td>148.792350</td>\n",
       "      <td>26.338798</td>\n",
       "      <td>4.138187</td>\n",
       "      <td>1011.471726</td>\n",
       "      <td>...</td>\n",
       "      <td>1.252438e+07</td>\n",
       "      <td>4.584530</td>\n",
       "      <td>4.598895</td>\n",
       "      <td>0.679572</td>\n",
       "      <td>12.724277</td>\n",
       "    </tr>\n",
       "    <tr>\n",
       "      <th>2011</th>\n",
       "      <td>70.654098</td>\n",
       "      <td>156.535519</td>\n",
       "      <td>26.830601</td>\n",
       "      <td>4.871648</td>\n",
       "      <td>1029.534746</td>\n",
       "      <td>...</td>\n",
       "      <td>1.129574e+07</td>\n",
       "      <td>4.594475</td>\n",
       "      <td>4.568508</td>\n",
       "      <td>0.674555</td>\n",
       "      <td>12.604624</td>\n",
       "    </tr>\n",
       "    <tr>\n",
       "      <th>2010</th>\n",
       "      <td>70.048634</td>\n",
       "      <td>161.863388</td>\n",
       "      <td>27.928962</td>\n",
       "      <td>4.943626</td>\n",
       "      <td>768.221388</td>\n",
       "      <td>...</td>\n",
       "      <td>1.181332e+07</td>\n",
       "      <td>4.659116</td>\n",
       "      <td>4.639779</td>\n",
       "      <td>0.655197</td>\n",
       "      <td>12.446821</td>\n",
       "    </tr>\n",
       "    <tr>\n",
       "      <th>2009</th>\n",
       "      <td>69.938251</td>\n",
       "      <td>163.393443</td>\n",
       "      <td>28.956284</td>\n",
       "      <td>4.889231</td>\n",
       "      <td>719.827424</td>\n",
       "      <td>...</td>\n",
       "      <td>9.132068e+06</td>\n",
       "      <td>4.786740</td>\n",
       "      <td>4.718232</td>\n",
       "      <td>0.651434</td>\n",
       "      <td>12.310983</td>\n",
       "    </tr>\n",
       "    <tr>\n",
       "      <th>2008</th>\n",
       "      <td>69.427869</td>\n",
       "      <td>174.519126</td>\n",
       "      <td>29.568306</td>\n",
       "      <td>5.007088</td>\n",
       "      <td>1095.802669</td>\n",
       "      <td>...</td>\n",
       "      <td>9.487742e+06</td>\n",
       "      <td>4.907182</td>\n",
       "      <td>4.941436</td>\n",
       "      <td>0.645717</td>\n",
       "      <td>12.176301</td>\n",
       "    </tr>\n",
       "    <tr>\n",
       "      <th>2007</th>\n",
       "      <td>69.036066</td>\n",
       "      <td>159.808743</td>\n",
       "      <td>30.612022</td>\n",
       "      <td>5.014066</td>\n",
       "      <td>954.458468</td>\n",
       "      <td>...</td>\n",
       "      <td>1.853530e+07</td>\n",
       "      <td>5.034807</td>\n",
       "      <td>4.976243</td>\n",
       "      <td>0.639000</td>\n",
       "      <td>12.038150</td>\n",
       "    </tr>\n",
       "    <tr>\n",
       "      <th>2006</th>\n",
       "      <td>68.667760</td>\n",
       "      <td>170.404372</td>\n",
       "      <td>31.808743</td>\n",
       "      <td>4.917692</td>\n",
       "      <td>828.776319</td>\n",
       "      <td>...</td>\n",
       "      <td>1.536564e+07</td>\n",
       "      <td>5.115470</td>\n",
       "      <td>5.157459</td>\n",
       "      <td>0.632312</td>\n",
       "      <td>11.917919</td>\n",
       "    </tr>\n",
       "  </tbody>\n",
       "</table>\n",
       "<p>10 rows × 19 columns</p>\n",
       "</div>"
      ],
      "text/plain": [
       "      Life expectancy   Adult Mortality  infant deaths   Alcohol  percentage expenditure  ...    Population   thinness  1-19 years   thinness 5-9 years  Income composition of resources  Schooling\n",
       "Year                                                                                      ...                                                                                                      \n",
       "2015         71.616940       152.863388      23.803279  5.288333                2.383906  ...  1.109741e+07               4.534807             4.575691                         0.691740  12.927168\n",
       "2014         71.536612       148.688525      24.557377  3.271319             1001.912550  ...  2.106296e+07               4.532597             4.676243                         0.688393  12.887283\n",
       "2013         71.236066       148.765027      23.968912  3.924450              836.623984  ...  1.235609e+07               4.470370             4.425397                         0.685648  12.688333\n",
       "2012         70.916940       148.792350      26.338798  4.138187             1011.471726  ...  1.252438e+07               4.584530             4.598895                         0.679572  12.724277\n",
       "2011         70.654098       156.535519      26.830601  4.871648             1029.534746  ...  1.129574e+07               4.594475             4.568508                         0.674555  12.604624\n",
       "2010         70.048634       161.863388      27.928962  4.943626              768.221388  ...  1.181332e+07               4.659116             4.639779                         0.655197  12.446821\n",
       "2009         69.938251       163.393443      28.956284  4.889231              719.827424  ...  9.132068e+06               4.786740             4.718232                         0.651434  12.310983\n",
       "2008         69.427869       174.519126      29.568306  5.007088             1095.802669  ...  9.487742e+06               4.907182             4.941436                         0.645717  12.176301\n",
       "2007         69.036066       159.808743      30.612022  5.014066              954.458468  ...  1.853530e+07               5.034807             4.976243                         0.639000  12.038150\n",
       "2006         68.667760       170.404372      31.808743  4.917692              828.776319  ...  1.536564e+07               5.115470             5.157459                         0.632312  11.917919\n",
       "\n",
       "[10 rows x 19 columns]"
      ]
     },
     "execution_count": 7,
     "metadata": {},
     "output_type": "execute_result"
    }
   ],
   "source": [
    "group_by_country = data.groupby(['Year']).mean().sort_values(by='Life expectancy ', ascending=False).head(10)\n",
    "group_by_country"
   ]
  },
  {
   "cell_type": "code",
   "execution_count": 8,
   "metadata": {},
   "outputs": [
    {
     "data": {
      "image/png": "[encoded data removed]",
      "text/plain": [
       "<Figure size 576x396 with 1 Axes>"
      ]
     },
     "metadata": {},
     "output_type": "display_data"
    }
   ],
   "source": [
    "# Histogram of Life Expectancy\n",
    "plt.style.use('seaborn')\n",
    "plt.hist(data['Life expectancy '].dropna(), bins=12);\n",
    "plt.xlabel('Life Expectancy'); plt.ylabel('Count'); \n",
    "plt.title('Life Expectancy Distribution');\n",
    "\n",
    "# Most countries have life expectancy between 70 and 75 years"
   ]
  },
  {
   "cell_type": "markdown",
   "metadata": {},
   "source": [
    "<ins>**Observations**:<ins>\n",
    "\n",
    "- This data is skewed towards the right. \n",
    "- The life expectancy for most countries increases steadily from late thirties to late eighties\n",
    "- The dataset does not contain any missing values of outliers.\n",
    "- The mean salary is 116 and the median is 114. \n",
    "- There is a slight presence of a right tail. "
   ]
  },
  {
   "cell_type": "code",
   "execution_count": 9,
   "metadata": {},
   "outputs": [
    {
     "data": {
      "text/plain": [
       "Adult Mortality                   -0.696359\n",
       " HIV/AIDS                         -0.556556\n",
       " thinness  1-19 years             -0.477183\n",
       " thinness 5-9 years               -0.471584\n",
       "under-five deaths                 -0.222529\n",
       "infant deaths                     -0.196557\n",
       "Measles                           -0.157586\n",
       "Population                        -0.021538\n",
       "Year                               0.170033\n",
       "Total expenditure                  0.218086\n",
       "Hepatitis B                        0.256762\n",
       "percentage expenditure             0.381864\n",
       "Alcohol                            0.404877\n",
       "GDP                                0.461455\n",
       "Polio                              0.465556\n",
       "Diphtheria                         0.479495\n",
       " BMI                               0.567694\n",
       "Income composition of resources    0.724776\n",
       "Schooling                          0.751975\n",
       "Life expectancy                    1.000000\n",
       "Name: Life expectancy , dtype: float64"
      ]
     },
     "execution_count": 9,
     "metadata": {},
     "output_type": "execute_result"
    }
   ],
   "source": [
    "# Find all correlations and sort \n",
    "correlations_data = data.corr()['Life expectancy '].sort_values()\n",
    "\n",
    "correlations_data"
   ]
  },
  {
   "cell_type": "markdown",
   "metadata": {},
   "source": [
    "<ins>**Observations**:<ins>\n",
    "\n",
    "- HIV/AIDs has the strongest negative correlation with life expectancy while Schooling has the strongest positive correlation with life expectancy.  \n",
    "- Interestingly, higher intakes alcohol, diphtheria and BMI result in a higher life expectancy. \n",
    "- Population has the highest percentage of missing values yet its correlation influence is not significant. "
   ]
  },
  {
   "cell_type": "code",
   "execution_count": 10,
   "metadata": {},
   "outputs": [
    {
     "name": "stdout",
     "output_type": "stream",
     "text": [
      "The dataset has 22 columns.\n",
      "There are 14 columns that have missing values.\n",
      "\n",
      " We will remove 1 column(s).\n"
     ]
    }
   ],
   "source": [
    "# Discard columns with missing values more than 20%\n",
    "\n",
    "missing_df = missing_values_table(data);\n",
    "missing_columns = list(missing_df[missing_df['% of Total Values'] > 20].index)\n",
    "print('\\n','We will remove %d column(s).' % len(missing_columns))\n",
    "\n",
    "# Drop the columns\n",
    "data = data.drop(columns = list(missing_columns))"
   ]
  },
  {
   "cell_type": "code",
   "execution_count": 11,
   "metadata": {},
   "outputs": [
    {
     "data": {
      "text/plain": [
       "count    2928.000000\n",
       "mean       69.224932\n",
       "std         9.523867\n",
       "min        36.300000\n",
       "25%        63.100000\n",
       "50%        72.100000\n",
       "75%        75.700000\n",
       "max        89.000000\n",
       "Name: Life expectancy , dtype: float64"
      ]
     },
     "execution_count": 11,
     "metadata": {},
     "output_type": "execute_result"
    }
   ],
   "source": [
    "data['Life expectancy '].describe()"
   ]
  },
  {
   "cell_type": "code",
   "execution_count": 12,
   "metadata": {},
   "outputs": [
    {
     "name": "stdout",
     "output_type": "stream",
     "text": [
      "Normal Test nan\n",
      "False\n",
      "Shapiro Test 1.000\n",
      "False\n"
     ]
    }
   ],
   "source": [
    "from scipy import stats\n",
    "\n",
    "_, p = stats.normaltest(data['Life expectancy '])\n",
    "print('Normal Test',format(p, '.3f'))\n",
    "print(p <= 0.05)\n",
    "\n",
    "# Check with Shapiro - Wilk test\n",
    "from scipy.stats import shapiro\n",
    "\n",
    "_, p = shapiro(data['Life expectancy '])\n",
    "print('Shapiro Test', format( p, '.3f'))\n",
    "print(p <= 0.05)"
   ]
  },
  {
   "cell_type": "markdown",
   "metadata": {},
   "source": [
    "<ins>**Observations**:<ins>\n",
    "\n",
    "We use a statistical test to verify whether life expectancy has a normal distribution or not. A p- value smaller than 0.05 means the null hypothesis is rejected. As such, a p-value of 0.05 or greater means that the distribution is a normal distribution. \n",
    "\n",
    "Life expectancy, therefore, does follow a normal distribution. \n",
    "\n",
    "A Shapiro-Wilk test is also used to confirm if the data has been drawn from a normal distribution or not. The results are similar to observations made using the D’Agostino’s K^2 Test. "
   ]
  },
  {
   "cell_type": "code",
   "execution_count": 13,
   "metadata": {},
   "outputs": [
    {
     "data": {
      "text/html": [
       "<div>\n",
       "<style scoped>\n",
       "    .dataframe tbody tr th:only-of-type {\n",
       "        vertical-align: middle;\n",
       "    }\n",
       "\n",
       "    .dataframe tbody tr th {\n",
       "        vertical-align: top;\n",
       "    }\n",
       "\n",
       "    .dataframe thead th {\n",
       "        text-align: right;\n",
       "    }\n",
       "</style>\n",
       "<table border=\"1\" class=\"dataframe\">\n",
       "  <thead>\n",
       "    <tr style=\"text-align: right;\">\n",
       "      <th></th>\n",
       "      <th>Year</th>\n",
       "      <th>Life expectancy</th>\n",
       "      <th>Adult Mortality</th>\n",
       "      <th>infant deaths</th>\n",
       "      <th>Alcohol</th>\n",
       "      <th>...</th>\n",
       "      <th>GDP</th>\n",
       "      <th>thinness  1-19 years</th>\n",
       "      <th>thinness 5-9 years</th>\n",
       "      <th>Income composition of resources</th>\n",
       "      <th>Schooling</th>\n",
       "    </tr>\n",
       "    <tr>\n",
       "      <th>Country</th>\n",
       "      <th></th>\n",
       "      <th></th>\n",
       "      <th></th>\n",
       "      <th></th>\n",
       "      <th></th>\n",
       "      <th></th>\n",
       "      <th></th>\n",
       "      <th></th>\n",
       "      <th></th>\n",
       "      <th></th>\n",
       "      <th></th>\n",
       "    </tr>\n",
       "  </thead>\n",
       "  <tbody>\n",
       "    <tr>\n",
       "      <th>Japan</th>\n",
       "      <td>2007.5</td>\n",
       "      <td>82.53750</td>\n",
       "      <td>57.1250</td>\n",
       "      <td>2.8750</td>\n",
       "      <td>7.040667</td>\n",
       "      <td>...</td>\n",
       "      <td>24892.544784</td>\n",
       "      <td>1.81250</td>\n",
       "      <td>1.54375</td>\n",
       "      <td>0.876563</td>\n",
       "      <td>14.97500</td>\n",
       "    </tr>\n",
       "    <tr>\n",
       "      <th>Sweden</th>\n",
       "      <td>2007.5</td>\n",
       "      <td>82.51875</td>\n",
       "      <td>59.1875</td>\n",
       "      <td>0.0000</td>\n",
       "      <td>6.926667</td>\n",
       "      <td>...</td>\n",
       "      <td>29334.990639</td>\n",
       "      <td>1.35000</td>\n",
       "      <td>1.30625</td>\n",
       "      <td>0.893125</td>\n",
       "      <td>15.86875</td>\n",
       "    </tr>\n",
       "    <tr>\n",
       "      <th>Iceland</th>\n",
       "      <td>2007.5</td>\n",
       "      <td>82.44375</td>\n",
       "      <td>49.3750</td>\n",
       "      <td>0.0000</td>\n",
       "      <td>7.466000</td>\n",
       "      <td>...</td>\n",
       "      <td>30159.502907</td>\n",
       "      <td>0.95625</td>\n",
       "      <td>0.90000</td>\n",
       "      <td>0.885313</td>\n",
       "      <td>18.15625</td>\n",
       "    </tr>\n",
       "    <tr>\n",
       "      <th>Switzerland</th>\n",
       "      <td>2007.5</td>\n",
       "      <td>82.33125</td>\n",
       "      <td>55.7500</td>\n",
       "      <td>0.0000</td>\n",
       "      <td>10.338000</td>\n",
       "      <td>...</td>\n",
       "      <td>57362.874601</td>\n",
       "      <td>0.53750</td>\n",
       "      <td>0.39375</td>\n",
       "      <td>0.911062</td>\n",
       "      <td>15.39375</td>\n",
       "    </tr>\n",
       "    <tr>\n",
       "      <th>France</th>\n",
       "      <td>2007.5</td>\n",
       "      <td>82.21875</td>\n",
       "      <td>73.1250</td>\n",
       "      <td>2.9375</td>\n",
       "      <td>12.404667</td>\n",
       "      <td>...</td>\n",
       "      <td>26465.551381</td>\n",
       "      <td>0.62500</td>\n",
       "      <td>0.60000</td>\n",
       "      <td>0.870563</td>\n",
       "      <td>15.90000</td>\n",
       "    </tr>\n",
       "    <tr>\n",
       "      <th>Italy</th>\n",
       "      <td>2007.5</td>\n",
       "      <td>82.18750</td>\n",
       "      <td>54.1875</td>\n",
       "      <td>2.0000</td>\n",
       "      <td>8.266667</td>\n",
       "      <td>...</td>\n",
       "      <td>21234.782371</td>\n",
       "      <td>0.51250</td>\n",
       "      <td>0.52500</td>\n",
       "      <td>0.858062</td>\n",
       "      <td>15.93125</td>\n",
       "    </tr>\n",
       "    <tr>\n",
       "      <th>Spain</th>\n",
       "      <td>2007.5</td>\n",
       "      <td>82.06875</td>\n",
       "      <td>63.6250</td>\n",
       "      <td>1.6250</td>\n",
       "      <td>10.024000</td>\n",
       "      <td>...</td>\n",
       "      <td>17093.459737</td>\n",
       "      <td>0.60000</td>\n",
       "      <td>0.50000</td>\n",
       "      <td>0.850562</td>\n",
       "      <td>16.35625</td>\n",
       "    </tr>\n",
       "    <tr>\n",
       "      <th>Australia</th>\n",
       "      <td>2007.5</td>\n",
       "      <td>81.81250</td>\n",
       "      <td>63.1875</td>\n",
       "      <td>1.0000</td>\n",
       "      <td>10.155333</td>\n",
       "      <td>...</td>\n",
       "      <td>34637.565047</td>\n",
       "      <td>0.66875</td>\n",
       "      <td>0.62500</td>\n",
       "      <td>0.918125</td>\n",
       "      <td>20.03750</td>\n",
       "    </tr>\n",
       "    <tr>\n",
       "      <th>Norway</th>\n",
       "      <td>2007.5</td>\n",
       "      <td>81.79375</td>\n",
       "      <td>66.2500</td>\n",
       "      <td>0.0000</td>\n",
       "      <td>6.234375</td>\n",
       "      <td>...</td>\n",
       "      <td>27434.946928</td>\n",
       "      <td>0.76250</td>\n",
       "      <td>0.70000</td>\n",
       "      <td>0.931438</td>\n",
       "      <td>17.46875</td>\n",
       "    </tr>\n",
       "    <tr>\n",
       "      <th>Canada</th>\n",
       "      <td>2007.5</td>\n",
       "      <td>81.68750</td>\n",
       "      <td>64.6250</td>\n",
       "      <td>2.0000</td>\n",
       "      <td>8.053333</td>\n",
       "      <td>...</td>\n",
       "      <td>29382.907523</td>\n",
       "      <td>0.50625</td>\n",
       "      <td>0.43750</td>\n",
       "      <td>0.892188</td>\n",
       "      <td>15.87500</td>\n",
       "    </tr>\n",
       "  </tbody>\n",
       "</table>\n",
       "<p>10 rows × 19 columns</p>\n",
       "</div>"
      ],
      "text/plain": [
       "               Year  Life expectancy   Adult Mortality  infant deaths    Alcohol  ...           GDP   thinness  1-19 years   thinness 5-9 years  Income composition of resources  Schooling\n",
       "Country                                                                           ...                                                                                                      \n",
       "Japan        2007.5          82.53750          57.1250         2.8750   7.040667  ...  24892.544784                1.81250              1.54375                         0.876563   14.97500\n",
       "Sweden       2007.5          82.51875          59.1875         0.0000   6.926667  ...  29334.990639                1.35000              1.30625                         0.893125   15.86875\n",
       "Iceland      2007.5          82.44375          49.3750         0.0000   7.466000  ...  30159.502907                0.95625              0.90000                         0.885313   18.15625\n",
       "Switzerland  2007.5          82.33125          55.7500         0.0000  10.338000  ...  57362.874601                0.53750              0.39375                         0.911062   15.39375\n",
       "France       2007.5          82.21875          73.1250         2.9375  12.404667  ...  26465.551381                0.62500              0.60000                         0.870563   15.90000\n",
       "Italy        2007.5          82.18750          54.1875         2.0000   8.266667  ...  21234.782371                0.51250              0.52500                         0.858062   15.93125\n",
       "Spain        2007.5          82.06875          63.6250         1.6250  10.024000  ...  17093.459737                0.60000              0.50000                         0.850562   16.35625\n",
       "Australia    2007.5          81.81250          63.1875         1.0000  10.155333  ...  34637.565047                0.66875              0.62500                         0.918125   20.03750\n",
       "Norway       2007.5          81.79375          66.2500         0.0000   6.234375  ...  27434.946928                0.76250              0.70000                         0.931438   17.46875\n",
       "Canada       2007.5          81.68750          64.6250         2.0000   8.053333  ...  29382.907523                0.50625              0.43750                         0.892188   15.87500\n",
       "\n",
       "[10 rows x 19 columns]"
      ]
     },
     "execution_count": 13,
     "metadata": {},
     "output_type": "execute_result"
    }
   ],
   "source": [
    "data.groupby(['Country']).mean().sort_values(by='Life expectancy ', ascending=False).head(10)"
   ]
  },
  {
   "cell_type": "code",
   "execution_count": 14,
   "metadata": {},
   "outputs": [
    {
     "data": {
      "text/plain": [
       "Country\n",
       "Japan                                                   82.53750\n",
       "Sweden                                                  82.51875\n",
       "Iceland                                                 82.44375\n",
       "Switzerland                                             82.33125\n",
       "France                                                  82.21875\n",
       "Italy                                                   82.18750\n",
       "Spain                                                   82.06875\n",
       "Australia                                               81.81250\n",
       "Norway                                                  81.79375\n",
       "Canada                                                  81.68750\n",
       "Austria                                                 81.48125\n",
       "Singapore                                               81.47500\n",
       "New Zealand                                             81.33750\n",
       "Israel                                                  81.30000\n",
       "Greece                                                  81.21875\n",
       "Germany                                                 81.17500\n",
       "Netherlands                                             81.13125\n",
       "United Kingdom of Great Britain and Northern Ireland    80.79375\n",
       "Luxembourg                                              80.78125\n",
       "Finland                                                 80.71250\n",
       "Name: Life expectancy , dtype: float64"
      ]
     },
     "execution_count": 14,
     "metadata": {},
     "output_type": "execute_result"
    }
   ],
   "source": [
    "data.groupby(['Country'])['Life expectancy '].mean().sort_values(ascending=False).head(20)"
   ]
  },
  {
   "cell_type": "code",
   "execution_count": 15,
   "metadata": {},
   "outputs": [
    {
     "data": {
      "text/plain": [
       "Country\n",
       "Burkina Faso                55.64375\n",
       "Burundi                     55.53750\n",
       "Guinea-Bissau               55.36875\n",
       "Equatorial Guinea           55.31250\n",
       "Mali                        54.93750\n",
       "Cameroon                    54.01875\n",
       "Zambia                      53.90625\n",
       "South Sudan                 53.87500\n",
       "Mozambique                  53.39375\n",
       "Somalia                     53.31875\n",
       "Nigeria                     51.35625\n",
       "Swaziland                   51.32500\n",
       "Zimbabwe                    50.48750\n",
       "C̫te d'Ivoire               50.38750\n",
       "Chad                        50.38750\n",
       "Malawi                      49.89375\n",
       "Angola                      49.01875\n",
       "Lesotho                     48.78125\n",
       "Central African Republic    48.51250\n",
       "Sierra Leone                46.11250\n",
       "Name: Life expectancy , dtype: float64"
      ]
     },
     "execution_count": 15,
     "metadata": {},
     "output_type": "execute_result"
    }
   ],
   "source": [
    "data.groupby(['Country'])['Life expectancy '].mean().dropna().sort_values(ascending=False).tail(20)"
   ]
  },
  {
   "cell_type": "code",
   "execution_count": 16,
   "metadata": {},
   "outputs": [
    {
     "data": {
      "text/plain": [
       "Year  Country     \n",
       "2004  Malawi          45.1\n",
       "      Lesotho         44.8\n",
       "2002  Zimbabwe        44.8\n",
       "2001  Zambia          44.6\n",
       "2003  Malawi          44.6\n",
       "2005  Zimbabwe        44.6\n",
       "      Lesotho         44.5\n",
       "2003  Zimbabwe        44.5\n",
       "2004  Zimbabwe        44.3\n",
       "2006  Sierra Leone    44.3\n",
       "2002  Malawi          44.0\n",
       "2000  Zambia          43.8\n",
       "2001  Malawi          43.5\n",
       "2005  Sierra Leone    43.3\n",
       "2000  Malawi          43.1\n",
       "2004  Sierra Leone    42.3\n",
       "2003  Sierra Leone    41.5\n",
       "2001  Sierra Leone    41.0\n",
       "2000  Sierra Leone    39.0\n",
       "2010  Haiti           36.3\n",
       "Name: Life expectancy , dtype: float64"
      ]
     },
     "execution_count": 16,
     "metadata": {},
     "output_type": "execute_result"
    }
   ],
   "source": [
    "data.groupby(['Year', 'Country'])['Life expectancy '].mean().dropna().sort_values(ascending=False).tail(20)"
   ]
  },
  {
   "cell_type": "code",
   "execution_count": 17,
   "metadata": {},
   "outputs": [
    {
     "data": {
      "text/plain": [
       "Year  Country    \n",
       "2004  Italy          89.0\n",
       "2014  Portugal       89.0\n",
       "      Finland        89.0\n",
       "2007  Sweden         89.0\n",
       "      France         89.0\n",
       "2014  Germany        89.0\n",
       "2007  Spain          89.0\n",
       "2014  Belgium        89.0\n",
       "2010  New Zealand    89.0\n",
       "2008  France         89.0\n",
       "2009  Norway         89.0\n",
       "2011  Austria        88.0\n",
       "2015  Slovenia       88.0\n",
       "2006  Sweden         88.0\n",
       "2012  Austria        88.0\n",
       "2004  Iceland        88.0\n",
       "2010  Netherlands    88.0\n",
       "2005  Italy          88.0\n",
       "2011  Luxembourg     88.0\n",
       "2014  Greece         88.0\n",
       "Name: Life expectancy , dtype: float64"
      ]
     },
     "execution_count": 17,
     "metadata": {},
     "output_type": "execute_result"
    }
   ],
   "source": [
    "data.groupby(['Year', 'Country'])['Life expectancy '].mean().dropna().sort_values(ascending=False).head(20)"
   ]
  },
  {
   "cell_type": "code",
   "execution_count": 18,
   "metadata": {},
   "outputs": [
    {
     "data": {
      "text/plain": [
       "<matplotlib.legend.Legend at 0x12d5506f408>"
      ]
     },
     "execution_count": 18,
     "metadata": {},
     "output_type": "execute_result"
    },
    {
     "data": {
      "image/png": "[encoded data removed]",
      "text/plain": [
       "<Figure size 576x396 with 1 Axes>"
      ]
     },
     "metadata": {},
     "output_type": "display_data"
    }
   ],
   "source": [
    "ax = sns.lineplot(x = 'Year', y = 'Life expectancy ', \n",
    "                  markers = True, dashes = False, data = data)\n",
    "plt.axhline(data['Life expectancy '].unique().mean(), color='red', linestyle='--', linewidth=2, label='Median')\n",
    "plt.xticks(rotation = 45)\n",
    "plt.title('Life Expectancy vs Year')\n",
    "plt.xlabel('Year')\n",
    "plt.ylabel('Life Expectancy')\n",
    "plt.legend(loc='best')"
   ]
  },
  {
   "cell_type": "markdown",
   "metadata": {},
   "source": [
    "<ins>**Observations**:<ins>\n",
    "\n",
    "Mean is used as the statistical measure because it describes the average life expectancy of the population. \n",
    "\n",
    "Developed countries are seen to have the highest life expectancy. \n",
    "\n",
    "African countries seem to have the lowest life expectancies.\n",
    "\n",
    "In general, life expectancy increases across the years. "
   ]
  },
  {
   "cell_type": "markdown",
   "metadata": {},
   "source": [
    "<a id='feature_engineering'></a>\n",
    "## Feature Engineering and Selection"
   ]
  },
  {
   "cell_type": "code",
   "execution_count": 19,
   "metadata": {},
   "outputs": [],
   "source": [
    "data = data.dropna(subset=['Life expectancy ']) # Drop rows with missing life expectancy values"
   ]
  },
  {
   "cell_type": "code",
   "execution_count": 20,
   "metadata": {},
   "outputs": [
    {
     "data": {
      "text/plain": [
       "Adult Mortality                   -0.696359\n",
       " HIV/AIDS                         -0.556556\n",
       " thinness  1-19 years             -0.477183\n",
       " thinness 5-9 years               -0.471584\n",
       "under-five deaths                 -0.222529\n",
       "infant deaths                     -0.196557\n",
       "Measles                           -0.157586\n",
       "Year                               0.170033\n",
       "Total expenditure                  0.218086\n",
       "Hepatitis B                        0.256762\n",
       "percentage expenditure             0.381864\n",
       "Alcohol                            0.404877\n",
       "GDP                                0.461455\n",
       "Polio                              0.465556\n",
       "Diphtheria                         0.479495\n",
       " BMI                               0.567694\n",
       "Income composition of resources    0.724776\n",
       "Schooling                          0.751975\n",
       "Life expectancy                    1.000000\n",
       "Name: Life expectancy , dtype: float64"
      ]
     },
     "execution_count": 20,
     "metadata": {},
     "output_type": "execute_result"
    }
   ],
   "source": [
    "data.corr()['Life expectancy '].dropna().sort_values()"
   ]
  },
  {
   "cell_type": "code",
   "execution_count": 21,
   "metadata": {},
   "outputs": [],
   "source": [
    "# Remove highly correlated features\n",
    "def remove_collinear_features(x, threshold):\n",
    "    '''\n",
    "    Objective:\n",
    "        Remove collinear features in a dataframe with a correlation coefficient\n",
    "        greater than the threshold. Removing collinear features can help a model\n",
    "        to generalize and improves the interpretability of the model.\n",
    "        \n",
    "    Inputs: \n",
    "        threshold: any features with correlations greater than this value are removed\n",
    "    \n",
    "    Output: \n",
    "        dataframe that contains only the non-highly-collinear features\n",
    "    '''\n",
    "    \n",
    "    # Dont want to remove correlations between life expectancy\n",
    "    y = x['Life expectancy ']\n",
    "    x = x.drop(columns = ['Life expectancy '])\n",
    "    \n",
    "    # Calculate the correlation matrix\n",
    "    corr_matrix = x.corr()\n",
    "    iters = range(len(corr_matrix.columns) - 1)\n",
    "    drop_cols = []\n",
    "\n",
    "    # Iterate through the correlation matrix and compare correlations\n",
    "    for i in iters:\n",
    "        for j in range(i):\n",
    "            item = corr_matrix.iloc[j:(j+1), (i+1):(i+2)]\n",
    "            col = item.columns\n",
    "            row = item.index\n",
    "            val = abs(item.values)\n",
    "            \n",
    "            # If correlation exceeds the threshold\n",
    "            if val >= threshold:\n",
    "                # Print the correlated features and the correlation value\n",
    "                print(col.values[0], \"|\", row.values[0], \"|\", round(val[0][0], 2))\n",
    "                drop_cols.append(col.values[0])\n",
    "\n",
    "    # Drop one of each pair of correlated columns\n",
    "    drops = set(drop_cols)\n",
    "    x = x.drop(columns = drops)\n",
    "    \n",
    "    \n",
    "    # Add life expectancy back in to the data\n",
    "    x['Life expectancy '] = y\n",
    "               \n",
    "    return x"
   ]
  },
  {
   "cell_type": "code",
   "execution_count": 22,
   "metadata": {},
   "outputs": [
    {
     "name": "stdout",
     "output_type": "stream",
     "text": [
      "under-five deaths  | infant deaths | 1.0\n",
      "Diphtheria  | Hepatitis B | 0.61\n",
      "Diphtheria  | Polio | 0.67\n",
      "GDP | percentage expenditure | 0.9\n"
     ]
    }
   ],
   "source": [
    "# Remove the collinear features above a specified correlation coefficient\n",
    "data = remove_collinear_features(data, 0.6);"
   ]
  },
  {
   "cell_type": "code",
   "execution_count": 23,
   "metadata": {},
   "outputs": [
    {
     "data": {
      "text/plain": [
       "(2928, 18)"
      ]
     },
     "execution_count": 23,
     "metadata": {},
     "output_type": "execute_result"
    }
   ],
   "source": [
    "data.shape"
   ]
  },
  {
   "cell_type": "code",
   "execution_count": 24,
   "metadata": {},
   "outputs": [
    {
     "data": {
      "text/plain": [
       "Adult Mortality                   -0.696359\n",
       " HIV/AIDS                         -0.556556\n",
       " thinness  1-19 years             -0.477183\n",
       " thinness 5-9 years               -0.471584\n",
       "infant deaths                     -0.196557\n",
       "Measles                           -0.157586\n",
       "Year                               0.170033\n",
       "Total expenditure                  0.218086\n",
       "Hepatitis B                        0.256762\n",
       "percentage expenditure             0.381864\n",
       "Alcohol                            0.404877\n",
       "Polio                              0.465556\n",
       " BMI                               0.567694\n",
       "Income composition of resources    0.724776\n",
       "Schooling                          0.751975\n",
       "Life expectancy                    1.000000\n",
       "Name: Life expectancy , dtype: float64"
      ]
     },
     "execution_count": 24,
     "metadata": {},
     "output_type": "execute_result"
    }
   ],
   "source": [
    "data.corr()['Life expectancy '].dropna().sort_values()"
   ]
  },
  {
   "cell_type": "markdown",
   "metadata": {},
   "source": [
    "<a id='model'></a>\n",
    "## Machine Learning"
   ]
  },
  {
   "cell_type": "code",
   "execution_count": 25,
   "metadata": {},
   "outputs": [],
   "source": [
    "# Splitting data into training and testing\n",
    "from sklearn.model_selection import train_test_split\n",
    "\n",
    "#Imputing missing values and scaling values\n",
    "from sklearn.impute import SimpleImputer as Imputer\n",
    "from sklearn.preprocessing import MinMaxScaler\n",
    "from sklearn.compose import TransformedTargetRegressor\n",
    "\n",
    "#ML\n",
    "from sklearn.ensemble import RandomForestRegressor, GradientBoostingRegressor\n",
    "from catboost import CatBoostRegressor, Pool\n",
    "from lightgbm import LGBMRegressor\n",
    "from xgboost import XGBRegressor\n",
    "\n",
    "from sklearn.linear_model import LinearRegression\n",
    "from sklearn.svm import SVR\n",
    "from sklearn.neighbors import KNeighborsRegressor\n",
    "\n",
    "#Metrics \n",
    "# from sklearn.metrics import mean_squared_error\n",
    "# from sklearn.metrics import r2_score\n",
    "\n",
    "#Hyperparameter tuning\n",
    "import optuna \n",
    "\n",
    "import math\n",
    "import time"
   ]
  },
  {
   "cell_type": "markdown",
   "metadata": {},
   "source": [
    "#### With Encoded Features"
   ]
  },
  {
   "cell_type": "code",
   "execution_count": 26,
   "metadata": {},
   "outputs": [
    {
     "name": "stdout",
     "output_type": "stream",
     "text": [
      "(1961, 14)\n",
      "(967, 14)\n",
      "(1961, 1)\n",
      "(967, 1)\n"
     ]
    }
   ],
   "source": [
    "# Seperate features and targets - Contains encoded features\n",
    "encoded_features = data.drop(columns=['Life expectancy ', 'Country', 'Status', 'Year'])\n",
    "encoded_targets = pd.DataFrame(data['Life expectancy '])\n",
    "\n",
    "# Replace the inf and -inf with nan (required for later imputation)\n",
    "data = data.replace({np.inf: np.nan, -np.inf: np.nan})\n",
    "\n",
    "# Split into 0.66% training and 0.33 validation set\n",
    "encoded_X, encoded_X_val, encoded_y, encoded_y_val = train_test_split(encoded_features, \n",
    "                                      encoded_targets, \n",
    "                                      test_size = 0.33, \n",
    "                                      random_state = 1)\n",
    "\n",
    "print(encoded_X.shape)\n",
    "print(encoded_X_val.shape)\n",
    "print(encoded_y.shape)\n",
    "print(encoded_y_val.shape)"
   ]
  },
  {
   "cell_type": "code",
   "execution_count": 27,
   "metadata": {},
   "outputs": [
    {
     "name": "stdout",
     "output_type": "stream",
     "text": [
      "The baseline guess is a score of 72.00\n",
      "Baseline Performance on the test set: RMSE = 9.71\n"
     ]
    }
   ],
   "source": [
    "# Create a Baseline\n",
    "#Metric: Root Mean Squared Error\n",
    "\n",
    "# Function to calculate root mean squared error. \n",
    "# This function calculates root mean squared errors between true values and predictions\n",
    "\n",
    "def rmse(y_true, y_pred):\n",
    "    mse = np.square(np.subtract(y_true,y_pred)).mean()\n",
    "    rmse = math.sqrt(abs(mse))\n",
    "    return rmse\n",
    "\n",
    "baseline = np.median(encoded_y)\n",
    "\n",
    "\n",
    "print('The baseline guess is a score of %0.2f' % baseline)\n",
    "print(\"Baseline Performance on the test set: RMSE = %0.2f\" % rmse(encoded_y_val, baseline))"
   ]
  },
  {
   "cell_type": "code",
   "execution_count": 28,
   "metadata": {},
   "outputs": [],
   "source": [
    "#Imputer object\n",
    "imputer = Imputer(strategy = 'median')\n",
    "\n",
    "#Fitting on train da\n",
    "imputer.fit(encoded_X)\n",
    "\n",
    "#Transform train and test data\n",
    "encoded_X = imputer.transform(encoded_X)\n",
    "encoded_X_val = imputer.transform(encoded_X_val)"
   ]
  },
  {
   "cell_type": "code",
   "execution_count": 29,
   "metadata": {},
   "outputs": [
    {
     "name": "stdout",
     "output_type": "stream",
     "text": [
      "\n",
      " Checking all data is finite\n",
      "------------------------------\n",
      "(array([], dtype=int64), array([], dtype=int64))\n",
      "(array([], dtype=int64), array([], dtype=int64))\n"
     ]
    }
   ],
   "source": [
    "print('\\n', 'Checking all data is finite')\n",
    "print('-' * 30)\n",
    "\n",
    "#Making sure all values are finite\n",
    "print (np.where(~np.isfinite(encoded_X)))\n",
    "print (np.where(~np.isfinite(encoded_X_val)))"
   ]
  },
  {
   "cell_type": "markdown",
   "metadata": {},
   "source": [
    "### Data Scaling\n",
    "- Scaling the data is a recommended step as some algorithms such as SVM generalize poorly when data is not of the same units. In our case, we have some numeric columns that correspond to currency while others correspond to percentage etc. Because of a difference in units, we will need to scale the data.\n",
    "\n",
    "- There are two ways of scaling data: - Standardization - Normalization\n",
    "\n",
    "- Standardization is useful when you are sure your data follows a gaussian distribution, while normalization on the other hand is useful when you are not sure of the distribution of data.\n",
    "\n",
    "- In our case, since we are unsure, we will use normalization"
   ]
  },
  {
   "cell_type": "code",
   "execution_count": 30,
   "metadata": {},
   "outputs": [],
   "source": [
    "#Training, testing and evaluating a model\n",
    "def train_test_evaluate(ml_model):\n",
    "    print(ml_model)\n",
    "    start = time.time()\n",
    "    \n",
    "    #Train   \n",
    "    \n",
    "    # # Normalizing the features so that different units do not affect the algorithms. \n",
    "    # While this process is not necessary for tree-based models, nevertheless, it is a good practice\n",
    "    model = TransformedTargetRegressor(regressor= ml_model,\n",
    "                                        transformer = MinMaxScaler()\n",
    "                                        ).fit(encoded_X,encoded_y)\n",
    "    \n",
    "\n",
    "    \n",
    "    \n",
    "    #Test\n",
    "    # Inverse transformation happens at this step\n",
    "    model_pred = model.predict(encoded_X_val)\n",
    "        \n",
    "    #Evaluate\n",
    "    model_rmse = rmse(encoded_y_val, model_pred)\n",
    "    \n",
    "    \n",
    "    end = time.time()\n",
    "    time_taken = end - start\n",
    "    \n",
    "    print('Time taken: %0.2f' %time_taken, 's.')\n",
    "    \n",
    "    #Return performance metric\n",
    "    return model_rmse"
   ]
  },
  {
   "cell_type": "markdown",
   "metadata": {},
   "source": [
    "### Models\n",
    "\n",
    "* Running them in their default state"
   ]
  },
  {
   "cell_type": "code",
   "execution_count": 31,
   "metadata": {},
   "outputs": [
    {
     "name": "stdout",
     "output_type": "stream",
     "text": [
      "LinearRegression()\n",
      "Time taken: 0.01 s.\n",
      "Linear Regression Root Mean Squared Error: 4.2151 \n",
      "\n"
     ]
    }
   ],
   "source": [
    "#Linear Regression\n",
    "lr = LinearRegression()\n",
    "lr_rmse = train_test_evaluate(lr)\n",
    "print ('Linear Regression Root Mean Squared Error: %0.4f' %lr_rmse, '\\n')"
   ]
  },
  {
   "cell_type": "markdown",
   "metadata": {},
   "source": [
    "### Multivariate Linear Regression from Scratch"
   ]
  },
  {
   "cell_type": "code",
   "execution_count": 32,
   "metadata": {},
   "outputs": [
    {
     "name": "stdout",
     "output_type": "stream",
     "text": [
      "[[1.]\n",
      " [1.]\n",
      " [1.]\n",
      " ...\n",
      " [1.]\n",
      " [1.]\n",
      " [1.]]\n"
     ]
    }
   ],
   "source": [
    "ones = np.ones([encoded_X.shape[0], 1])\n",
    "print(ones)\n",
    "encoded_X = np.concatenate((ones, encoded_X), axis=1)\n",
    "encoded_y = encoded_y.values"
   ]
  },
  {
   "cell_type": "code",
   "execution_count": 33,
   "metadata": {},
   "outputs": [
    {
     "name": "stdout",
     "output_type": "stream",
     "text": [
      "[[0. 0. 0. 0. 0. 0. 0. 0. 0. 0. 0. 0. 0. 0. 0.]]\n"
     ]
    }
   ],
   "source": [
    "theta = np.zeros([1, encoded_X.shape[1]])\n",
    "print(theta)\n",
    "\n",
    "#Hyperparameters\n",
    "alpha = 0.001 #Learning rate\n",
    "iters = 10 #Number of iterations to perform gradient descent (epochs)"
   ]
  },
  {
   "cell_type": "code",
   "execution_count": 34,
   "metadata": {},
   "outputs": [],
   "source": [
    "# Cost function\n",
    "def compute_cost(X,y,theta):\n",
    "    tobesummed = np.power(((X @ theta.T)-y),2)\n",
    "    return np.sum(tobesummed)/(2 * len(X))"
   ]
  },
  {
   "cell_type": "code",
   "execution_count": 35,
   "metadata": {},
   "outputs": [],
   "source": [
    "# Gradient Descent\n",
    "def gradient_descent(X,y,theta,iters,alpha):\n",
    "    cost = np.zeros(iters)\n",
    "    for i in range(iters):\n",
    "        theta = theta - (alpha/len(X)) * np.sum(X * (X @ theta.T - y), axis=0)\n",
    "        cost[i] = compute_cost(X, y, theta)\n",
    "        print(cost[i])\n",
    "    \n",
    "    return theta,cost"
   ]
  },
  {
   "cell_type": "code",
   "execution_count": 36,
   "metadata": {},
   "outputs": [
    {
     "name": "stdout",
     "output_type": "stream",
     "text": [
      "1277072734883.746\n",
      "1.8789717507937413e+22\n",
      "2.7820912873462396e+32\n",
      "4.11932771518784e+42\n",
      "6.099318563605054e+52\n",
      "9.031009308586028e+62\n",
      "1.3371842818382521e+73\n",
      "1.9799135871727232e+83\n",
      "2.931576347339489e+93\n",
      "4.34066412592915e+103\n",
      "[[-1.61313261e+43 -2.97413325e+45 -5.12214698e+45 -5.83658261e+43\n",
      "  -3.38873538e+45 -1.19846625e+45 -8.44622229e+47 -3.44579318e+44\n",
      "  -1.11904341e+45 -7.60989728e+43 -4.14854011e+43 -1.53129948e+44\n",
      "  -1.54787447e+44 -8.38046638e+42 -1.62912826e+44]]\n",
      "4.34066412592915e+103\n"
     ]
    }
   ],
   "source": [
    "# Gradient descent and cost function\n",
    "gradient, cost = gradient_descent(encoded_X, encoded_y, theta, iters, alpha)\n",
    "print(gradient)\n",
    "\n",
    "final_cost = compute_cost(encoded_X,encoded_y,gradient)\n",
    "print(final_cost)"
   ]
  },
  {
   "cell_type": "code",
   "execution_count": 37,
   "metadata": {},
   "outputs": [
    {
     "data": {
      "text/plain": [
       "Text(0.5, 1.0, 'Error vs. Training Epoch')"
      ]
     },
     "execution_count": 37,
     "metadata": {},
     "output_type": "execute_result"
    },
    {
     "data": {
      "image/png": "[encoded data removed]",
      "text/plain": [
       "<Figure size 576x396 with 1 Axes>"
      ]
     },
     "metadata": {},
     "output_type": "display_data"
    }
   ],
   "source": [
    "# #plot the cost\n",
    "# fig, ax = plt.subplots()  \n",
    "# ax.plot(np.arange(iters), cost, 'r')  \n",
    "# ax.set_xlabel('Iterations')  \n",
    "# ax.set_ylabel('Cost')  \n",
    "# ax.set_title('Error vs. Training Epoch')  "
   ]
  }
 ],
 "metadata": {
  "kernelspec": {
   "display_name": "Python 3.7.12 ('DataMasked')",
   "language": "python",
   "name": "python3"
  },
  "language_info": {
   "codemirror_mode": {
    "name": "ipython",
    "version": 3
   },
   "file_extension": ".py",
   "mimetype": "text/x-python",
   "name": "python",
   "nbconvert_exporter": "python",
   "pygments_lexer": "ipython3",
   "version": "3.7.12"
  },
  "orig_nbformat": 4,
  "vscode": {
   "interpreter": {
    "hash": "495b13af7e3cd872ca0a2451f1ad31db014dfdd72bcf156b32505e231fa2c549"
   }
  }
 },
 "nbformat": 4,
 "nbformat_minor": 2
}
